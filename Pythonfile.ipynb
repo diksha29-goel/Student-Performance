{
 "cells": [
  {
   "cell_type": "code",
   "execution_count": 1,
   "id": "d660d60a-8dea-47f0-95ba-5be7cc57b1fb",
   "metadata": {},
   "outputs": [
    {
     "data": {
      "text/html": [
       "<div>\n",
       "<style scoped>\n",
       "    .dataframe tbody tr th:only-of-type {\n",
       "        vertical-align: middle;\n",
       "    }\n",
       "\n",
       "    .dataframe tbody tr th {\n",
       "        vertical-align: top;\n",
       "    }\n",
       "\n",
       "    .dataframe thead th {\n",
       "        text-align: right;\n",
       "    }\n",
       "</style>\n",
       "<table border=\"1\" class=\"dataframe\">\n",
       "  <thead>\n",
       "    <tr style=\"text-align: right;\">\n",
       "      <th></th>\n",
       "      <th>gender</th>\n",
       "      <th>race/ethnicity</th>\n",
       "      <th>parental level of education</th>\n",
       "      <th>lunch</th>\n",
       "      <th>test preparation course</th>\n",
       "      <th>math score</th>\n",
       "      <th>reading score</th>\n",
       "      <th>writing score</th>\n",
       "    </tr>\n",
       "  </thead>\n",
       "  <tbody>\n",
       "    <tr>\n",
       "      <th>0</th>\n",
       "      <td>female</td>\n",
       "      <td>group B</td>\n",
       "      <td>bachelor's degree</td>\n",
       "      <td>standard</td>\n",
       "      <td>none</td>\n",
       "      <td>72</td>\n",
       "      <td>72</td>\n",
       "      <td>74</td>\n",
       "    </tr>\n",
       "    <tr>\n",
       "      <th>1</th>\n",
       "      <td>female</td>\n",
       "      <td>group C</td>\n",
       "      <td>some college</td>\n",
       "      <td>standard</td>\n",
       "      <td>completed</td>\n",
       "      <td>69</td>\n",
       "      <td>90</td>\n",
       "      <td>88</td>\n",
       "    </tr>\n",
       "    <tr>\n",
       "      <th>2</th>\n",
       "      <td>female</td>\n",
       "      <td>group B</td>\n",
       "      <td>master's degree</td>\n",
       "      <td>standard</td>\n",
       "      <td>none</td>\n",
       "      <td>90</td>\n",
       "      <td>95</td>\n",
       "      <td>93</td>\n",
       "    </tr>\n",
       "    <tr>\n",
       "      <th>3</th>\n",
       "      <td>male</td>\n",
       "      <td>group A</td>\n",
       "      <td>associate's degree</td>\n",
       "      <td>free/reduced</td>\n",
       "      <td>none</td>\n",
       "      <td>47</td>\n",
       "      <td>57</td>\n",
       "      <td>44</td>\n",
       "    </tr>\n",
       "    <tr>\n",
       "      <th>4</th>\n",
       "      <td>male</td>\n",
       "      <td>group C</td>\n",
       "      <td>some college</td>\n",
       "      <td>standard</td>\n",
       "      <td>none</td>\n",
       "      <td>76</td>\n",
       "      <td>78</td>\n",
       "      <td>75</td>\n",
       "    </tr>\n",
       "    <tr>\n",
       "      <th>...</th>\n",
       "      <td>...</td>\n",
       "      <td>...</td>\n",
       "      <td>...</td>\n",
       "      <td>...</td>\n",
       "      <td>...</td>\n",
       "      <td>...</td>\n",
       "      <td>...</td>\n",
       "      <td>...</td>\n",
       "    </tr>\n",
       "    <tr>\n",
       "      <th>995</th>\n",
       "      <td>female</td>\n",
       "      <td>group E</td>\n",
       "      <td>master's degree</td>\n",
       "      <td>standard</td>\n",
       "      <td>completed</td>\n",
       "      <td>88</td>\n",
       "      <td>99</td>\n",
       "      <td>95</td>\n",
       "    </tr>\n",
       "    <tr>\n",
       "      <th>996</th>\n",
       "      <td>male</td>\n",
       "      <td>group C</td>\n",
       "      <td>high school</td>\n",
       "      <td>free/reduced</td>\n",
       "      <td>none</td>\n",
       "      <td>62</td>\n",
       "      <td>55</td>\n",
       "      <td>55</td>\n",
       "    </tr>\n",
       "    <tr>\n",
       "      <th>997</th>\n",
       "      <td>female</td>\n",
       "      <td>group C</td>\n",
       "      <td>high school</td>\n",
       "      <td>free/reduced</td>\n",
       "      <td>completed</td>\n",
       "      <td>59</td>\n",
       "      <td>71</td>\n",
       "      <td>65</td>\n",
       "    </tr>\n",
       "    <tr>\n",
       "      <th>998</th>\n",
       "      <td>female</td>\n",
       "      <td>group D</td>\n",
       "      <td>some college</td>\n",
       "      <td>standard</td>\n",
       "      <td>completed</td>\n",
       "      <td>68</td>\n",
       "      <td>78</td>\n",
       "      <td>77</td>\n",
       "    </tr>\n",
       "    <tr>\n",
       "      <th>999</th>\n",
       "      <td>female</td>\n",
       "      <td>group D</td>\n",
       "      <td>some college</td>\n",
       "      <td>free/reduced</td>\n",
       "      <td>none</td>\n",
       "      <td>77</td>\n",
       "      <td>86</td>\n",
       "      <td>86</td>\n",
       "    </tr>\n",
       "  </tbody>\n",
       "</table>\n",
       "<p>1000 rows × 8 columns</p>\n",
       "</div>"
      ],
      "text/plain": [
       "     gender race/ethnicity parental level of education         lunch  \\\n",
       "0    female        group B           bachelor's degree      standard   \n",
       "1    female        group C                some college      standard   \n",
       "2    female        group B             master's degree      standard   \n",
       "3      male        group A          associate's degree  free/reduced   \n",
       "4      male        group C                some college      standard   \n",
       "..      ...            ...                         ...           ...   \n",
       "995  female        group E             master's degree      standard   \n",
       "996    male        group C                 high school  free/reduced   \n",
       "997  female        group C                 high school  free/reduced   \n",
       "998  female        group D                some college      standard   \n",
       "999  female        group D                some college  free/reduced   \n",
       "\n",
       "    test preparation course  math score  reading score  writing score  \n",
       "0                      none          72             72             74  \n",
       "1                 completed          69             90             88  \n",
       "2                      none          90             95             93  \n",
       "3                      none          47             57             44  \n",
       "4                      none          76             78             75  \n",
       "..                      ...         ...            ...            ...  \n",
       "995               completed          88             99             95  \n",
       "996                    none          62             55             55  \n",
       "997               completed          59             71             65  \n",
       "998               completed          68             78             77  \n",
       "999                    none          77             86             86  \n",
       "\n",
       "[1000 rows x 8 columns]"
      ]
     },
     "execution_count": 1,
     "metadata": {},
     "output_type": "execute_result"
    }
   ],
   "source": [
    "import pandas as pd\n",
    "\n",
    "# Load CSV\n",
    "df = pd.read_csv(r\"C:\\Users\\Diksha\\OneDrive\\Desktop\\presentation\\archive.zip\")\n",
    "df"
   ]
  },
  {
   "cell_type": "code",
   "execution_count": 2,
   "id": "ee8b21a7-6438-482b-b1f1-d7526a77a370",
   "metadata": {},
   "outputs": [
    {
     "name": "stdout",
     "output_type": "stream",
     "text": [
      "   gender race/ethnicity parental level of education         lunch  \\\n",
      "0  female        group B           bachelor's degree      standard   \n",
      "1  female        group C                some college      standard   \n",
      "2  female        group B             master's degree      standard   \n",
      "3    male        group A          associate's degree  free/reduced   \n",
      "4    male        group C                some college      standard   \n",
      "\n",
      "  test preparation course  math score  reading score  writing score  \n",
      "0                    none          72             72             74  \n",
      "1               completed          69             90             88  \n",
      "2                    none          90             95             93  \n",
      "3                    none          47             57             44  \n",
      "4                    none          76             78             75  \n",
      "<class 'pandas.core.frame.DataFrame'>\n",
      "RangeIndex: 1000 entries, 0 to 999\n",
      "Data columns (total 8 columns):\n",
      " #   Column                       Non-Null Count  Dtype \n",
      "---  ------                       --------------  ----- \n",
      " 0   gender                       1000 non-null   object\n",
      " 1   race/ethnicity               1000 non-null   object\n",
      " 2   parental level of education  1000 non-null   object\n",
      " 3   lunch                        1000 non-null   object\n",
      " 4   test preparation course      1000 non-null   object\n",
      " 5   math score                   1000 non-null   int64 \n",
      " 6   reading score                1000 non-null   int64 \n",
      " 7   writing score                1000 non-null   int64 \n",
      "dtypes: int64(3), object(5)\n",
      "memory usage: 62.6+ KB\n",
      "None\n",
      "gender                         0\n",
      "race/ethnicity                 0\n",
      "parental level of education    0\n",
      "lunch                          0\n",
      "test preparation course        0\n",
      "math score                     0\n",
      "reading score                  0\n",
      "writing score                  0\n",
      "dtype: int64\n"
     ]
    }
   ],
   "source": [
    "# Preview\n",
    "print(df.head())\n",
    "print(df.info())\n",
    "print(df.isnull().sum())"
   ]
  },
  {
   "cell_type": "code",
   "execution_count": 3,
   "id": "dba35e9e-bfe7-4966-a672-1983510b08a1",
   "metadata": {},
   "outputs": [
    {
     "name": "stdout",
     "output_type": "stream",
     "text": [
      "\n",
      "Data types of each column:\n",
      "gender                         object\n",
      "race/ethnicity                 object\n",
      "parental level of education    object\n",
      "lunch                          object\n",
      "test preparation course        object\n",
      "math score                      int64\n",
      "reading score                   int64\n",
      "writing score                   int64\n",
      "dtype: object\n"
     ]
    }
   ],
   "source": [
    "print(\"\\nData types of each column:\")\n",
    "print(df.dtypes)\n"
   ]
  },
  {
   "cell_type": "markdown",
   "id": "b97cb22e-87e6-4793-97e6-9650ccc97f05",
   "metadata": {},
   "source": [
    "# 2. Check for duplicate rows or invalid data entries."
   ]
  },
  {
   "cell_type": "code",
   "execution_count": 4,
   "id": "e8aca1d6-7255-4651-890d-c04d2822077c",
   "metadata": {},
   "outputs": [
    {
     "name": "stdout",
     "output_type": "stream",
     "text": [
      "\n",
      "Number of duplicate rows: 0\n",
      "Shape after dropping duplicates: (1000, 8)\n"
     ]
    }
   ],
   "source": [
    "# Duplicate rows\n",
    "duplicates = df.duplicated().sum()\n",
    "print(f\"\\nNumber of duplicate rows: {duplicates}\")\n",
    "\n",
    "# Drop duplicates if any\n",
    "df = df.drop_duplicates()\n",
    "\n",
    "# Check shape after drop\n",
    "print(f\"Shape after dropping duplicates: {df.shape}\")\n"
   ]
  },
  {
   "cell_type": "markdown",
   "id": "7b3ec3ec-0ebc-413b-b726-f096ab45fff2",
   "metadata": {},
   "source": [
    "# 3. Standardize Categorical Values"
   ]
  },
  {
   "cell_type": "code",
   "execution_count": 5,
   "id": "3d7e75a2-9c95-40eb-86ab-2a451475ba6e",
   "metadata": {},
   "outputs": [
    {
     "name": "stdout",
     "output_type": "stream",
     "text": [
      "Gender categories: ['female' 'male']\n",
      "Race/Ethnicity groups: ['Group B' 'Group C' 'Group A' 'Group D' 'Group E']\n",
      "Parental Education Levels: [\"Bachelor'S Degree\" 'Some College' \"Master'S Degree\" \"Associate'S Degree\"\n",
      " 'High School' 'Some High School']\n",
      "Lunch types: ['standard' 'free/reduced']\n",
      "Test Preparation Course statuses: ['none' 'completed']\n"
     ]
    }
   ],
   "source": [
    "# Lowercase and strip whitespace for consistency\n",
    "df['gender'] = df['gender'].str.strip().str.lower()\n",
    "df['race/ethnicity'] = df['race/ethnicity'].str.strip().str.title()\n",
    "df['parental level of education'] = df['parental level of education'].str.strip().str.title()\n",
    "df['lunch'] = df['lunch'].str.strip().str.lower()\n",
    "df['test preparation course'] = df['test preparation course'].str.strip().str.lower()\n",
    "print(\"Gender categories:\", df['gender'].unique())\n",
    "print(\"Race/Ethnicity groups:\", df['race/ethnicity'].unique())\n",
    "print(\"Parental Education Levels:\", df['parental level of education'].unique())\n",
    "print(\"Lunch types:\", df['lunch'].unique())\n",
    "print(\"Test Preparation Course statuses:\", df['test preparation course'].unique())"
   ]
  },
  {
   "cell_type": "markdown",
   "id": "01de092f-f82b-4a07-8b2a-b74807c00140",
   "metadata": {},
   "source": [
    "# 4.Add derived columns:"
   ]
  },
  {
   "cell_type": "markdown",
   "id": "2714e502-91cb-469a-948c-5d391aabbc9c",
   "metadata": {},
   "source": [
    "## Average Score = (Math + Reading + Writing)/3"
   ]
  },
  {
   "cell_type": "code",
   "execution_count": 6,
   "id": "2bd6a411-adc0-49ec-8297-d1075ee2fa48",
   "metadata": {},
   "outputs": [
    {
     "name": "stdout",
     "output_type": "stream",
     "text": [
      "0    72.666667\n",
      "1    82.333333\n",
      "2    92.666667\n",
      "3    49.333333\n",
      "4    76.333333\n",
      "Name: average_score, dtype: float64\n"
     ]
    }
   ],
   "source": [
    "df['average_score'] = df[['math score', 'reading score', 'writing score']].mean(axis=1)\n",
    "print(df['average_score'].head())\n"
   ]
  },
  {
   "cell_type": "markdown",
   "id": "7f6e8f0b-bd5a-4b74-816a-3775ecaa08f3",
   "metadata": {},
   "source": [
    "## Performance Category: Low, Medium, High based on average score"
   ]
  },
  {
   "cell_type": "code",
   "execution_count": 7,
   "id": "b8f341b5-0b1b-4a0b-9696-6676dd8e396e",
   "metadata": {},
   "outputs": [
    {
     "name": "stdout",
     "output_type": "stream",
     "text": [
      "0    Medium\n",
      "1      High\n",
      "2      High\n",
      "3       Low\n",
      "4    Medium\n",
      "Name: performance_category, dtype: object\n"
     ]
    }
   ],
   "source": [
    "def performance_level(score):\n",
    "    if score >= 80:\n",
    "        return \"High\"\n",
    "    elif score >= 60:\n",
    "        return \"Medium\"\n",
    "    else:\n",
    "        return \"Low\"\n",
    "\n",
    "df['performance_category'] = df['average_score'].apply(performance_level) \n",
    "print(df['performance_category'].head())  # Top 5 students"
   ]
  },
  {
   "cell_type": "code",
   "execution_count": 8,
   "id": "78ec0ee0-d492-4059-93b3-33073aea276c",
   "metadata": {},
   "outputs": [
    {
     "name": "stdout",
     "output_type": "stream",
     "text": [
      "     average_score performance_category\n",
      "0        72.666667               Medium\n",
      "1        82.333333                 High\n",
      "2        92.666667                 High\n",
      "3        49.333333                  Low\n",
      "4        76.333333               Medium\n",
      "..             ...                  ...\n",
      "995      94.000000                 High\n",
      "996      57.333333                  Low\n",
      "997      65.000000               Medium\n",
      "998      74.333333               Medium\n",
      "999      83.000000                 High\n",
      "\n",
      "[1000 rows x 2 columns]\n"
     ]
    }
   ],
   "source": [
    "print(df[['average_score', 'performance_category']])"
   ]
  },
  {
   "cell_type": "markdown",
   "id": "2f639a8c-d014-4744-958e-3ffe7bdffe1e",
   "metadata": {},
   "source": [
    "## Preparation Effectiveness: Compare scores with and without test prep"
   ]
  },
  {
   "cell_type": "code",
   "execution_count": 9,
   "id": "732bfe4f-2666-439b-a59c-5edfb3a22d69",
   "metadata": {},
   "outputs": [
    {
     "name": "stdout",
     "output_type": "stream",
     "text": [
      "  test preparation course prep_effectiveness\n",
      "0                    none               None\n",
      "1               completed          Completed\n",
      "2                    none               None\n",
      "3                    none               None\n",
      "4                    none               None\n",
      "5                    none               None\n",
      "6               completed          Completed\n",
      "7                    none               None\n",
      "8               completed          Completed\n",
      "9                    none               None\n",
      "  test preparation course prep_effectiveness\n",
      "0                    none               None\n",
      "1               completed          Completed\n",
      "2                    none               None\n",
      "3                    none               None\n",
      "4                    none               None\n",
      "5                    none               None\n",
      "6               completed          Completed\n",
      "7                    none               None\n",
      "8               completed          Completed\n",
      "9                    none               None\n"
     ]
    }
   ],
   "source": [
    "df['test preparation course'] = df['test preparation course'].str.strip().str.lower()\n",
    "# Create new column based on test prep status\n",
    "df['prep_effectiveness'] = df['test preparation course'].apply(lambda x: \"Completed\" if x == \"completed\" else \"None\")\n",
    "print(df[['test preparation course', 'prep_effectiveness']].head(10))\n",
    "print(df[['test preparation course', 'prep_effectiveness']].head(10))\n"
   ]
  },
  {
   "cell_type": "code",
   "execution_count": 10,
   "id": "5fb96b7e-268c-418f-bf44-8c53695208ab",
   "metadata": {},
   "outputs": [
    {
     "name": "stdout",
     "output_type": "stream",
     "text": [
      "Average Scores based on Test Preparation:\n",
      "                         math score  reading score  writing score  \\\n",
      "test preparation course                                             \n",
      "completed                 69.695531      73.893855      74.418994   \n",
      "none                      64.077882      66.534268      64.504673   \n",
      "\n",
      "                         average_score  \n",
      "test preparation course                 \n",
      "completed                    72.669460  \n",
      "none                         65.038941  \n"
     ]
    }
   ],
   "source": [
    "prep_comparison = df.groupby('test preparation course')[['math score', 'reading score', 'writing score', 'average_score']].mean()\n",
    "print(\"Average Scores based on Test Preparation:\")\n",
    "print(prep_comparison)\n"
   ]
  },
  {
   "cell_type": "code",
   "execution_count": 11,
   "id": "98dbc22e-3e10-4bf3-b1b4-1606c5fc9a50",
   "metadata": {},
   "outputs": [
    {
     "name": "stdout",
     "output_type": "stream",
     "text": [
      "\n",
      " Final dataset preview:\n",
      "   gender race/ethnicity parental level of education         lunch  \\\n",
      "0  female        Group B           Bachelor'S Degree      standard   \n",
      "1  female        Group C                Some College      standard   \n",
      "2  female        Group B             Master'S Degree      standard   \n",
      "3    male        Group A          Associate'S Degree  free/reduced   \n",
      "4    male        Group C                Some College      standard   \n",
      "\n",
      "  test preparation course  math score  reading score  writing score  \\\n",
      "0                    none          72             72             74   \n",
      "1               completed          69             90             88   \n",
      "2                    none          90             95             93   \n",
      "3                    none          47             57             44   \n",
      "4                    none          76             78             75   \n",
      "\n",
      "   average_score performance_category prep_effectiveness  \n",
      "0      72.666667               Medium               None  \n",
      "1      82.333333                 High          Completed  \n",
      "2      92.666667                 High               None  \n",
      "3      49.333333                  Low               None  \n",
      "4      76.333333               Medium               None  \n"
     ]
    }
   ],
   "source": [
    "print(\"\\n Final dataset preview:\")\n",
    "print(df.head())\n"
   ]
  },
  {
   "cell_type": "code",
   "execution_count": 12,
   "id": "92e773ed-327b-414d-b7de-c08dd5a0c297",
   "metadata": {},
   "outputs": [
    {
     "name": "stdout",
     "output_type": "stream",
     "text": [
      "\n",
      " Cleaned dataset saved as: final_cleaned_student_data.csv\n"
     ]
    }
   ],
   "source": [
    "df.to_csv(\"final_cleaned_student_data.csv\", index=False)\n",
    "print(\"\\n Cleaned dataset saved as: final_cleaned_student_data.csv\")"
   ]
  },
  {
   "cell_type": "code",
   "execution_count": null,
   "id": "195e8d5f-8c76-46e5-9106-2199e6f20ac6",
   "metadata": {},
   "outputs": [],
   "source": []
  }
 ],
 "metadata": {
  "kernelspec": {
   "display_name": "Python 3",
   "language": "python",
   "name": "python3"
  },
  "language_info": {
   "codemirror_mode": {
    "name": "ipython",
    "version": 3
   },
   "file_extension": ".py",
   "mimetype": "text/x-python",
   "name": "python",
   "nbconvert_exporter": "python",
   "pygments_lexer": "ipython3",
   "version": "3.13.1"
  }
 },
 "nbformat": 4,
 "nbformat_minor": 5
}
